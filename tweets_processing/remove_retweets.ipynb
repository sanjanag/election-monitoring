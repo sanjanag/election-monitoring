{
  "nbformat": 4,
  "nbformat_minor": 0,
  "metadata": {
    "colab": {
      "name": "remove_retweets.ipynb",
      "provenance": [],
      "collapsed_sections": []
    },
    "kernelspec": {
      "name": "python3",
      "display_name": "Python 3"
    }
  },
  "cells": [
    {
      "cell_type": "code",
      "metadata": {
        "id": "L7NWI-oJfyZC",
        "colab_type": "code",
        "colab": {}
      },
      "source": [
        "# import pandas and language detection module\n",
        "import langid\n",
        "import pandas as pd\n",
        "\n",
        "# read entire csv file, read ids of tweets identified to be in English\n",
        "df = pd.read_csv('ghana_election.csv')\n",
        "english_df = pd.read_csv('idx_english_tweets.csv')"
      ],
      "execution_count": 0,
      "outputs": []
    },
    {
      "cell_type": "code",
      "metadata": {
        "id": "0x-RVarIgKQj",
        "colab_type": "code",
        "colab": {}
      },
      "source": [
        "# ensure report row is of type string\n",
        "df['report'] = df['report'].astype(str)"
      ],
      "execution_count": 0,
      "outputs": []
    },
    {
      "cell_type": "code",
      "metadata": {
        "id": "YH8QbIVfgQTQ",
        "colab_type": "code",
        "colab": {}
      },
      "source": [
        "# get all English tweets\n",
        "df_english_tweets = df[df.index.isin(english_df['english_id'])]"
      ],
      "execution_count": 0,
      "outputs": []
    },
    {
      "cell_type": "code",
      "metadata": {
        "id": "P_FLLR8Vgv7Q",
        "colab_type": "code",
        "colab": {}
      },
      "source": [
        "# function to remove retweets\n",
        "\n",
        "def remove_retweets():\n",
        "  \n",
        "  # set of tweets with retweets, or in some cases, they are retweets with the original missing\n",
        "  original_tweets = set()   \n",
        "\n",
        "  k = len(df_english_tweets)\n",
        "  i = 0\n",
        "\n",
        "  # to store index of all tweets\n",
        "  all_tweets_idx = []\n",
        "\n",
        "  # for each row in English tweets dataframe\n",
        "  for index, row  in df_english_tweets.iterrows():    \n",
        "\n",
        "    # get the actual tweet \n",
        "    tweet = row['report']\n",
        "\n",
        "    # keep count to see what's going on\n",
        "    if (i % 1000 == 1):\n",
        "      print(\"Processing tweet {} of {}\".format(i, k))\n",
        "    i = i + 1\n",
        "\n",
        "    # we will add new tweets to original tweet if they meet some criteria\n",
        "    for original_tweet in original_tweets.copy(): \n",
        "      \n",
        "      # if current tweet is a superset of some original tweet and it starts with RT, quit loop and go to the next tweet, its most likely a retweet\n",
        "      if original_tweet in tweet and tweet.startswith('RT'):  \n",
        "        break\n",
        "      \n",
        "      # if original tweet is a superset of the current tweet, then remove original tweet\n",
        "      elif tweet in original_tweet and original_tweet.startswith('RT'): \n",
        "        original_tweets.remove(original_tweet)\n",
        "    \n",
        "    # add current tweet to list of original tweet\n",
        "    else:                                                         \n",
        "      original_tweets.add(tweet)\n",
        "      all_tweets_idx.append(index)\n",
        "  \n",
        "  # combine original tweets with already labelled tweets\n",
        "  lab_unl_tweets_idx = set(df_labelled_tweets.index).union(all_tweets_idx)\n",
        "\n",
        "  # find the corresponding rows in the main df\n",
        "  final_tweets = [df.loc[tweet_idx].tolist() for tweet_idx in lab_unl_tweets_idx]\n",
        "  return final_tweets\n"
      ],
      "execution_count": 0,
      "outputs": []
    },
    {
      "cell_type": "code",
      "metadata": {
        "id": "nDGO_9OEg-KR",
        "colab_type": "code",
        "colab": {}
      },
      "source": [
        "# all original tweets + labelled tweets\n",
        "res = remove_retweets()"
      ],
      "execution_count": 0,
      "outputs": []
    },
    {
      "cell_type": "code",
      "metadata": {
        "id": "5-3E6QsThA-Z",
        "colab_type": "code",
        "colab": {}
      },
      "source": [
        "# save to tweets.csv\n",
        "res_tweets = pd.DataFrame(res, columns=['report', 'source', 'authored_at', 'author','status','incident_title','incident_category','important','place_name',\t'note'])\n",
        "res_tweets.to_csv('tweets.csv', index=False)"
      ],
      "execution_count": 0,
      "outputs": []
    }
  ]
}