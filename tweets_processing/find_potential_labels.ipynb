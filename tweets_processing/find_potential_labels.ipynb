{
  "nbformat": 4,
  "nbformat_minor": 0,
  "metadata": {
    "colab": {
      "name": "find_potential_labels.ipynb",
      "provenance": []
    },
    "kernelspec": {
      "name": "python3",
      "display_name": "Python 3"
    }
  },
  "cells": [
    {
      "cell_type": "code",
      "metadata": {
        "id": "iiRhbwm4Xuzk",
        "colab_type": "code",
        "colab": {}
      },
      "source": [
        "import re\n",
        "from nltk.util import ngrams"
      ],
      "execution_count": 0,
      "outputs": []
    },
    {
      "cell_type": "code",
      "metadata": {
        "id": "W8-N9dRjXmr6",
        "colab_type": "code",
        "colab": {}
      },
      "source": [
        "# import pandas and read file\n",
        "import pandas as pd\n",
        "df = pd.read_csv('tweets.csv')"
      ],
      "execution_count": 0,
      "outputs": []
    },
    {
      "cell_type": "code",
      "metadata": {
        "id": "EGDpM8NjXrM8",
        "colab_type": "code",
        "colab": {}
      },
      "source": [
        "# tweets for which the status column is not empty is a labelled tweet\n",
        "df_labelled_tweets = df[df['status'].notnull()]"
      ],
      "execution_count": 0,
      "outputs": []
    },
    {
      "cell_type": "code",
      "metadata": {
        "id": "hiKRoIIFXtOE",
        "colab_type": "code",
        "colab": {}
      },
      "source": [
        "# function to create ngrams of all labelled tweets: ignore numbers, empty tokens and short tokens\n",
        "output_list = []\n",
        "\n",
        "def labelled_ngrams(num_gram):\n",
        "  for s in df_labelled_tweets['report']:\n",
        "    s = s.lower()\n",
        "    s = re.sub(r'[^a-zA-Z0-9\\s]', ' ', s)\n",
        "    tokens = [token for token in s.split(\" \") if token != \"\" and len(token) > 3 and token.isnumeric() == False ]\n",
        "    output = list(ngrams(tokens, num_gram))\n",
        "    output_list.append(output)\n",
        "  return output_list"
      ],
      "execution_count": 0,
      "outputs": []
    },
    {
      "cell_type": "code",
      "metadata": {
        "id": "4WXLTZ5LYQU0",
        "colab_type": "code",
        "colab": {}
      },
      "source": [
        "# confirm that trigrams were created for all 390 labelled tweets\n",
        "output = labelled_ngrams(3)\n",
        "len(output)"
      ],
      "execution_count": 0,
      "outputs": []
    },
    {
      "cell_type": "code",
      "metadata": {
        "id": "oQuP_XW9YsTV",
        "colab_type": "code",
        "colab": {}
      },
      "source": [
        "# function to find tweets that match a given trigram\n",
        "def find_matches(ls):\n",
        "  \n",
        "  found_matches = []\n",
        "\n",
        "  # select batch of tweets to process\n",
        "  for i,s in df[40000:60000].iterrows():\n",
        "\n",
        "    # get the column containing tweets\n",
        "    tweet = s['report']\n",
        "\n",
        "    # some tweets are NaNs, empty or contain just a number, skip them\n",
        "    if isinstance(tweet, float) == True:\n",
        "      continue\n",
        "    \n",
        "    # else prepare tweet for matching\n",
        "    else:\n",
        "      tweet = ''.join([str(i) for i in tweet if not i.isdigit()])\n",
        "    \n",
        "    # if tweet contains all 3 component words of a trigram, we will save it if it has not been saved before\n",
        "    res = all(ele in tweet for ele in ls)\n",
        "    if i not in found_matches and res == True:\n",
        "      found_matches.append(i)\n",
        "  return found_matches"
      ],
      "execution_count": 0,
      "outputs": []
    },
    {
      "cell_type": "code",
      "metadata": {
        "id": "jkN8Z3U8Z6xv",
        "colab_type": "code",
        "colab": {}
      },
      "source": [
        "# count to show what's going on as you wait\n",
        "k = len(output)\n",
        "i = 0\n",
        "\n",
        "all_matches = []\n",
        "matches = []\n",
        "\n",
        "# for each tweet\n",
        "for li in output:\n",
        "  print('Now processing tweet {} of {}'.format(i,k))\n",
        "\n",
        "  # for each trigram in the tweet\n",
        "  for ls in li:\n",
        "    \n",
        "    # find tweet ids that match the trigram and save them\n",
        "    matches = find_matches(ls)\n",
        "  i = i+1\n",
        "  all_matches.append(matches)"
      ],
      "execution_count": 0,
      "outputs": []
    },
    {
      "cell_type": "code",
      "metadata": {
        "id": "rGHu72mgaRbp",
        "colab_type": "code",
        "colab": {}
      },
      "source": [
        "# get all the returned ids by all the labelled tweet trigram search in a 1-d list, remove potential duplicate ids\n",
        "match_ids = []\n",
        "for item in all_matches:\n",
        "  for id in item:\n",
        "    if id not in match_ids and id != '':\n",
        "      match_ids.append(id)"
      ],
      "execution_count": 0,
      "outputs": []
    },
    {
      "cell_type": "code",
      "metadata": {
        "id": "eKbHTX5Xae3o",
        "colab_type": "code",
        "colab": {}
      },
      "source": [
        "# select all tweets from the main df with selected ids\n",
        "df_selected = df[df.index.isin(match_ids)]"
      ],
      "execution_count": 0,
      "outputs": []
    },
    {
      "cell_type": "code",
      "metadata": {
        "id": "V_b4kItyanKy",
        "colab_type": "code",
        "colab": {}
      },
      "source": [
        "# one last check to remove duplicate tweets; they sometime creep in\n",
        "df_nodups_selected = df_select.drop_duplicates(subset=['report'], keep='first')"
      ],
      "execution_count": 0,
      "outputs": []
    },
    {
      "cell_type": "code",
      "metadata": {
        "id": "kwXJJAa_bBdi",
        "colab_type": "code",
        "colab": {}
      },
      "source": [
        "# remember to change x in file name to match batch name\n",
        "df_nodups_selected.to_csv('match_labelled_tweets_x.csv', index=False)"
      ],
      "execution_count": 0,
      "outputs": []
    }
  ]
}