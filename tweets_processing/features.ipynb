{
 "cells": [
  {
   "cell_type": "code",
   "execution_count": 1,
   "metadata": {
    "pycharm": {
     "is_executing": true
    }
   },
   "outputs": [],
   "source": [
    "import pandas as pd\n",
    "from sklearn.feature_extraction.text import CountVectorizer\n",
    "import numpy as np\n",
    "import datetime as dt\n",
    "from sklearn.feature_selection import RFE\n",
    "import matplotlib.pyplot as plt\n",
    "from sklearn.feature_selection import SelectFromModel\n",
    "from sklearn.linear_model import LogisticRegression\n",
    "from sklearn.model_selection import train_test_split\n",
    "from sklearn.feature_extraction.text import TfidfVectorizer\n",
    "from sklearn import preprocessing\n",
    "from sklearn.svm import SVC\n",
    "from collections import Counter\n",
    "pd.set_option('display.max_columns', 50)\n",
    "pd.set_option('display.max_colwidth', -1)\n",
    "%matplotlib inline\n",
    "import re\n",
    "from sklearn.metrics import classification_report"
   ]
  },
  {
   "cell_type": "code",
   "execution_count": 90,
   "metadata": {
    "pycharm": {
     "is_executing": true
    }
   },
   "outputs": [],
   "source": [
    "mixed_tweets = pd.read_excel(\"./data/annotated_tweets.xlsx\")\n",
    "mixed_tweets = mixed_tweets[mixed_tweets['source'] == 'Twitter']\n",
    "mixed_tweets = mixed_tweets[~mixed_tweets.report.isnull()]"
   ]
  },
  {
   "cell_type": "code",
   "execution_count": 91,
   "metadata": {},
   "outputs": [],
   "source": [
    "mixed_tweets['report'] = mixed_tweets['report'].apply(to_lowercase)\n",
    "mixed_tweets['report'] = mixed_tweets['report'].apply(remove_mentions)\n",
    "mixed_tweets['report'] = mixed_tweets['report'].apply(remove_url)\n",
    "mixed_tweets['report'] = mixed_tweets['report'].apply(remove_retweet)\n",
    "mixed_tweets['report'] = mixed_tweets['report'].apply(remove_symbols)\n",
    "mixed_tweets['report'] = mixed_tweets['report'].apply(remove_extra_spaces)"
   ]
  },
  {
   "cell_type": "code",
   "execution_count": 131,
   "metadata": {},
   "outputs": [],
   "source": [
    "corpus = mixed_tweets['report'].tolist()\n",
    "vectorizer = CountVectorizer(strip_accents='ascii', ngram_range=(2,2), stop_words='english')\n",
    "X = vectorizer.fit_transform(corpus)\n",
    "X = X.toarray()\n",
    "ngram_df = pd.DataFrame(X, columns=vectorizer.get_feature_names(), index=mixed_tweets.index)"
   ]
  },
  {
   "cell_type": "code",
   "execution_count": 132,
   "metadata": {},
   "outputs": [
    {
     "data": {
      "text/plain": [
       "(1864, 11)"
      ]
     },
     "execution_count": 132,
     "metadata": {},
     "output_type": "execute_result"
    }
   ],
   "source": [
    "mixed_tweets.shape"
   ]
  },
  {
   "cell_type": "code",
   "execution_count": 133,
   "metadata": {},
   "outputs": [],
   "source": [
    "freq_uni = list(ngram_df.sum().sort_values(ascending=False).index[:500])"
   ]
  },
  {
   "cell_type": "code",
   "execution_count": 134,
   "metadata": {},
   "outputs": [
    {
     "name": "stderr",
     "output_type": "stream",
     "text": [
      "/usr/local/lib/python3.7/site-packages/ipykernel_launcher.py:2: SettingWithCopyWarning: \n",
      "A value is trying to be set on a copy of a slice from a DataFrame.\n",
      "Try using .loc[row_indexer,col_indexer] = value instead\n",
      "\n",
      "See the caveats in the documentation: http://pandas.pydata.org/pandas-docs/stable/indexing.html#indexing-view-versus-copy\n",
      "  \n"
     ]
    }
   ],
   "source": [
    "data = ngram_df[freq_uni]\n",
    "data['label'] = mixed_tweets['relevant']\n",
    "relevant_tweets = data[data.label == 'Y']\n",
    "irrelevant_tweets = data[data.label != 'Y']"
   ]
  },
  {
   "cell_type": "code",
   "execution_count": 135,
   "metadata": {},
   "outputs": [],
   "source": [
    "rset = relevant_tweets.sample(100)\n",
    "irset = irrelevant_tweets.sample(100)\n",
    "rset['label'] = 1\n",
    "irset['label'] = 0"
   ]
  },
  {
   "cell_type": "code",
   "execution_count": 106,
   "metadata": {},
   "outputs": [],
   "source": [
    "# irset"
   ]
  },
  {
   "cell_type": "code",
   "execution_count": 107,
   "metadata": {
    "pycharm": {
     "is_executing": true
    }
   },
   "outputs": [],
   "source": [
    "# relevant_tweets = mixed_tweets[mixed_tweets.relevant == 'Y']\n",
    "# irrelevant_tweets = mixed_tweets[mixed_tweets.relevant != 'Y']\n",
    "# rset = relevant_tweets.sample(100)\n",
    "# irset = irrelevant_tweets.sample(100)\n",
    "# rset['label'] = 1\n",
    "# irset['label'] = 0"
   ]
  },
  {
   "cell_type": "code",
   "execution_count": 136,
   "metadata": {
    "pycharm": {
     "is_executing": true
    }
   },
   "outputs": [],
   "source": [
    "data = pd.concat([rset, irset])\n",
    "data['label'] = data['label'].astype('int')\n",
    "# tweet_counter = Counter(data['author'])"
   ]
  },
  {
   "cell_type": "code",
   "execution_count": 69,
   "metadata": {
    "pycharm": {
     "is_executing": true
    }
   },
   "outputs": [],
   "source": [
    "def get_author_count(author):\n",
    "    return tweet_counter[author]\n",
    "def to_lowercase(text):\n",
    "    return text.lower()\n",
    "def remove_mentions(text):\n",
    "    return re.sub(r'@\\w+', '', text)\n",
    "def remove_url(text):\n",
    "    return re.sub(r'http.?://[^\\s]+[\\s]?', '', text)\n",
    "def remove_retweet(text):\n",
    "    return re.sub(r'^rt', '', text)\n",
    "def remove_extra_spaces(text):\n",
    "    text = re.sub(r'\\w+:\\/\\/\\S+', '', text)\n",
    "    return text\n",
    "def remove_symbols(text):\n",
    "#     return re.sub(r'[^0-9A-Za-z \\t]','', text)\n",
    "    return re.sub(r'[^A-Za-z \\t]','', text)"
   ]
  },
  {
   "cell_type": "code",
   "execution_count": 28,
   "metadata": {
    "pycharm": {
     "is_executing": true
    }
   },
   "outputs": [],
   "source": [
    "data['report'] = data['report'].apply(to_lowercase)\n",
    "data['report'] = data['report'].apply(remove_mentions)\n",
    "data['report'] = data['report'].apply(remove_url)\n",
    "data['report'] = data['report'].apply(remove_retweet)\n",
    "data['report'] = data['report'].apply(remove_symbols)\n",
    "data['report'] = data['report'].apply(remove_extra_spaces)"
   ]
  },
  {
   "cell_type": "code",
   "execution_count": 6,
   "metadata": {
    "pycharm": {
     "is_executing": true
    }
   },
   "outputs": [],
   "source": [
    "# data[['report']]"
   ]
  },
  {
   "cell_type": "code",
   "execution_count": 7,
   "metadata": {
    "pycharm": {
     "is_executing": true
    }
   },
   "outputs": [],
   "source": [
    "data['num_tweets'] = data['author'].apply(get_author_count)"
   ]
  },
  {
   "cell_type": "code",
   "execution_count": 8,
   "metadata": {
    "pycharm": {
     "is_executing": true
    }
   },
   "outputs": [],
   "source": [
    "data['minute'] = data['authored_at'].dt.minute\n",
    "data['hour'] = data['authored_at'].dt.hour\n",
    "data['day'] = data['authored_at'].dt.dayofweek"
   ]
  },
  {
   "cell_type": "code",
   "execution_count": 9,
   "metadata": {
    "pycharm": {
     "is_executing": true
    }
   },
   "outputs": [],
   "source": [
    "time_df = pd.DataFrame(index = data.index)\n",
    "minutes_in_day = 24*60\n",
    "time_df['sin_min'] = np.sin(2*np.pi*data['minute']/minutes_in_day)\n",
    "time_df['cos_min'] = np.cos(2*np.pi*data['minute']/minutes_in_day)\n",
    "time_df['sin_hour'] = np.sin(2*np.pi*data['hour']/24)\n",
    "time_df['cos_hour'] = np.cos(2*np.pi*data['hour']/24)\n",
    "time_df['sin_day'] = np.sin(2*np.pi*data['day']/7)\n",
    "time_df['cos_day'] = np.cos(2*np.pi*data['day']/7)"
   ]
  },
  {
   "cell_type": "code",
   "execution_count": 10,
   "metadata": {
    "pycharm": {
     "is_executing": true
    }
   },
   "outputs": [],
   "source": [
    "# X = pd.concat([ngram_df,time_df], axis=1)"
   ]
  },
  {
   "cell_type": "code",
   "execution_count": 11,
   "metadata": {
    "pycharm": {
     "is_executing": true
    }
   },
   "outputs": [],
   "source": [
    "# time_df.index == ngram_df.index"
   ]
  },
  {
   "cell_type": "code",
   "execution_count": 57,
   "metadata": {
    "pycharm": {
     "is_executing": true
    }
   },
   "outputs": [],
   "source": [
    "corpus = data.report.tolist()\n",
    "vectorizer = CountVectorizer(strip_accents='ascii', ngram_range=(3,3), stop_words='english')\n",
    "X = vectorizer.fit_transform(corpus)\n",
    "X = X.toarray()\n",
    "ngram_df = pd.DataFrame(X, columns=vectorizer.get_feature_names(), index=data.index)"
   ]
  },
  {
   "cell_type": "code",
   "execution_count": 58,
   "metadata": {
    "pycharm": {
     "is_executing": true
    }
   },
   "outputs": [],
   "source": [
    "# X = pd.concat([ngram_df,time_df,data[['num_tweets']]], axis=1)\n",
    "X = pd.concat([ngram_df], axis=1)"
   ]
  },
  {
   "cell_type": "code",
   "execution_count": 120,
   "metadata": {
    "pycharm": {
     "is_executing": true
    }
   },
   "outputs": [],
   "source": [
    "# data.iloc[:,-1]"
   ]
  },
  {
   "cell_type": "code",
   "execution_count": 137,
   "metadata": {
    "pycharm": {
     "is_executing": true
    }
   },
   "outputs": [],
   "source": [
    "X_train, X_test, y_train, y_test = train_test_split(data.iloc[:,:-1].to_numpy(), data.iloc[:,-1].to_numpy(), test_size=0.3, random_state=0)"
   ]
  },
  {
   "cell_type": "code",
   "execution_count": 138,
   "metadata": {},
   "outputs": [
    {
     "data": {
      "text/plain": [
       "(140, 500)"
      ]
     },
     "execution_count": 138,
     "metadata": {},
     "output_type": "execute_result"
    }
   ],
   "source": [
    "X_train.shape"
   ]
  },
  {
   "cell_type": "code",
   "execution_count": null,
   "metadata": {},
   "outputs": [],
   "source": []
  },
  {
   "cell_type": "code",
   "execution_count": 139,
   "metadata": {
    "pycharm": {
     "is_executing": true
    }
   },
   "outputs": [
    {
     "name": "stderr",
     "output_type": "stream",
     "text": [
      "/usr/local/lib/python3.7/site-packages/sklearn/linear_model/logistic.py:432: FutureWarning: Default solver will be changed to 'lbfgs' in 0.22. Specify a solver to silence this warning.\n",
      "  FutureWarning)\n"
     ]
    },
    {
     "data": {
      "text/plain": [
       "LogisticRegression(C=1.0, class_weight=None, dual=False, fit_intercept=True,\n",
       "                   intercept_scaling=1, l1_ratio=None, max_iter=100,\n",
       "                   multi_class='warn', n_jobs=None, penalty='l2',\n",
       "                   random_state=None, solver='warn', tol=0.0001, verbose=0,\n",
       "                   warm_start=False)"
      ]
     },
     "execution_count": 139,
     "metadata": {},
     "output_type": "execute_result"
    }
   ],
   "source": [
    "clf = LogisticRegression()\n",
    "clf.fit(X_train, y_train)"
   ]
  },
  {
   "cell_type": "code",
   "execution_count": 140,
   "metadata": {
    "pycharm": {
     "is_executing": true
    }
   },
   "outputs": [],
   "source": [
    "y_pred = clf.predict(X_test)"
   ]
  },
  {
   "cell_type": "code",
   "execution_count": 141,
   "metadata": {
    "pycharm": {
     "is_executing": true
    }
   },
   "outputs": [
    {
     "name": "stdout",
     "output_type": "stream",
     "text": [
      "              precision    recall  f1-score   support\n",
      "\n",
      "           0       0.76      0.84      0.80        31\n",
      "           1       0.81      0.72      0.76        29\n",
      "\n",
      "    accuracy                           0.78        60\n",
      "   macro avg       0.79      0.78      0.78        60\n",
      "weighted avg       0.79      0.78      0.78        60\n",
      "\n"
     ]
    }
   ],
   "source": [
    "print(classification_report(y_test, y_pred))"
   ]
  },
  {
   "cell_type": "code",
   "execution_count": 142,
   "metadata": {
    "pycharm": {
     "is_executing": true
    }
   },
   "outputs": [],
   "source": [
    "ord_features = np.argsort(clf.coef_[0])[::-1]\n",
    "features = data.columns[:-1]\n",
    "xlabels = []\n",
    "for idx in ord_features:\n",
    "#     print(features[idx])\n",
    "    xlabels.append(features[idx])"
   ]
  },
  {
   "cell_type": "code",
   "execution_count": 143,
   "metadata": {
    "pycharm": {
     "is_executing": true
    }
   },
   "outputs": [
    {
     "data": {
      "image/png": "[encoded data removed]",
      "text/plain": [
       "<Figure size 1080x360 with 1 Axes>"
      ]
     },
     "metadata": {
      "needs_background": "light"
     },
     "output_type": "display_data"
    }
   ],
   "source": [
    "n = 30\n",
    "plt.figure(figsize=(15,5))\n",
    "plt.plot(np.sort(clf.coef_[0])[::-1][:n])\n",
    "plt.xticks(np.arange(n), xlabels[:n], rotation='vertical')\n",
    "plt.show()"
   ]
  },
  {
   "cell_type": "code",
   "execution_count": 129,
   "metadata": {
    "pycharm": {
     "is_executing": true
    }
   },
   "outputs": [
    {
     "data": {
      "text/plain": [
       "0.0"
      ]
     },
     "execution_count": 129,
     "metadata": {},
     "output_type": "execute_result"
    }
   ],
   "source": [
    "clf.coef_[0][-1]"
   ]
  },
  {
   "cell_type": "code",
   "execution_count": null,
   "metadata": {
    "pycharm": {
     "is_executing": true
    }
   },
   "outputs": [],
   "source": []
  }
 ],
 "metadata": {
  "kernelspec": {
   "display_name": "Python 3",
   "language": "python",
   "name": "python3"
  },
  "language_info": {
   "codemirror_mode": {
    "name": "ipython",
    "version": 3
   },
   "file_extension": ".py",
   "mimetype": "text/x-python",
   "name": "python",
   "nbconvert_exporter": "python",
   "pygments_lexer": "ipython3",
   "version": "3.7.4"
  }
 },
 "nbformat": 4,
 "nbformat_minor": 1
}
